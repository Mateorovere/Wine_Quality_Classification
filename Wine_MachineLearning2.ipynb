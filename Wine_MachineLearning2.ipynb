{
  "nbformat": 4,
  "nbformat_minor": 0,
  "metadata": {
    "colab": {
      "provenance": [],
      "authorship_tag": "ABX9TyNfSbBb2V9fs9ZkDLJTKgib",
      "include_colab_link": true
    },
    "kernelspec": {
      "name": "python3",
      "display_name": "Python 3"
    },
    "language_info": {
      "name": "python"
    }
  },
  "cells": [
    {
      "cell_type": "markdown",
      "metadata": {
        "id": "view-in-github",
        "colab_type": "text"
      },
      "source": [
        "<a href=\"https://colab.research.google.com/github/Mateorovere/Wine_Quality_Classification/blob/main/Wine_MachineLearning2.ipynb\" target=\"_parent\"><img src=\"https://colab.research.google.com/assets/colab-badge.svg\" alt=\"Open In Colab\"/></a>"
      ]
    },
    {
      "cell_type": "code",
      "execution_count": null,
      "metadata": {
        "id": "SG13G_herctk"
      },
      "outputs": [],
      "source": [
        "import pandas as pd\n",
        "from sklearn.model_selection import train_test_split\n",
        "df = pd.read_csv(\"winequality-red.csv\", sep=\";\")\n",
        "x_train, x_test, y_train, y_test = train_test_split(df[['fixed acidity', 'volatile acidity', 'citric acid', 'residual sugar','chlorides', 'free sulfur dioxide', 'total sulfur dioxide', 'density','pH', 'sulphates', 'alcohol']], df['quality'], test_size = 0.1)"
      ]
    },
    {
      "cell_type": "code",
      "source": [
        "from sklearn.linear_model import LogisticRegression\n",
        "model = LogisticRegression(multi_class='multinomial', solver='lbfgs', max_iter=9000)\n",
        "model.fit(x_train,y_train)"
      ],
      "metadata": {
        "id": "MBTa_AAp3Lgi"
      },
      "execution_count": null,
      "outputs": []
    },
    {
      "cell_type": "code",
      "source": [
        "model.score(x_test,y_test)"
      ],
      "metadata": {
        "id": "75y_mJeMQtyX"
      },
      "execution_count": null,
      "outputs": []
    },
    {
      "cell_type": "code",
      "source": [
        "model.predict([[9.0,\t0.390,\t0.40,\t1.3,\t0.044,\t25.0,\t50.0,\t0.99478,\t3.20,\t0.83,\t10.9]])"
      ],
      "metadata": {
        "id": "rlwGTttAQeQ3"
      },
      "execution_count": null,
      "outputs": []
    },
    {
      "cell_type": "markdown",
      "source": [
        "# Now try with NN"
      ],
      "metadata": {
        "id": "oDDWo45tS0tX"
      }
    },
    {
      "cell_type": "code",
      "source": [
        "from tensorflow.keras.models import Sequential\n",
        "from tensorflow.keras.layers import Dense\n",
        "dataset = pd.read_csv('winequality-red.csv', sep=';')\n",
        "x = dataset.iloc[:,0:11]\n",
        "y = dataset['quality']"
      ],
      "metadata": {
        "id": "SG0j_ZAXS6lX"
      },
      "execution_count": null,
      "outputs": []
    },
    {
      "cell_type": "code",
      "source": [
        "#THE LAYERS\n",
        "\n",
        "model = Sequential()\n",
        "model.add(Dense(11,input_shape=(11,),activation='relu'))\n",
        "model.add(Dense(8, activation='relu'))\n",
        "model.add(Dense(1,activation='sigmoid'))"
      ],
      "metadata": {
        "id": "tDB-NE-6TtmH"
      },
      "execution_count": null,
      "outputs": []
    },
    {
      "cell_type": "code",
      "source": [
        "#We will define the optimizer as the efficient stochastic gradient descent algorithm “adam“. \n",
        "#This is a popular version of gradient descent because it automatically tunes itself and \n",
        "#gives good results in a wide range of problems\n",
        "\n",
        "model.compile(loss='categorical_crossentropy', optimizer='adam', metrics=['accuracy'])\n",
        "model.fit(x, y, epochs=200, batch_size=10)\n"
      ],
      "metadata": {
        "id": "zxueb0KyZC7g"
      },
      "execution_count": null,
      "outputs": []
    },
    {
      "cell_type": "code",
      "source": [
        "_, accuracy = model.evaluate(x, y) \n",
        "print('Accuracy: %.2f' % (accuracy*100))\n",
        "\n",
        "#SOMETHING IS NOT GOING AS EXPECTED, FIX LATER"
      ],
      "metadata": {
        "id": "K-wXlcpdcP_R"
      },
      "execution_count": null,
      "outputs": []
    }
  ]
}